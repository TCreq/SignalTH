{
 "cells": [
  {
   "cell_type": "markdown",
   "id": "acc9f56b",
   "metadata": {
    "colab_type": "text",
    "id": "view-in-github"
   },
   "source": [
    "<a href=\"https://colab.research.google.com/github/pejmanrasti/NLP/blob/main/5_LSTM_surname_classifier.ipynb\" target=\"_parent\"><img src=\"https://colab.research.google.com/assets/colab-badge.svg\" alt=\"Open In Colab\"/></a>"
   ]
  },
  {
   "cell_type": "markdown",
   "id": "6b2b64e7",
   "metadata": {
    "id": "6b2b64e7"
   },
   "source": [
    "# Long-Short Term Memory (LSTM) for Surname Nationality Classification\n",
    "\n",
    "This notebook demonstrates how to build and train a Long-Short Term Memory (LSTM) to classify surnames based on their nationalities using a dataset of surnames and corresponding nationalities."
   ]
  },
  {
   "cell_type": "code",
   "execution_count": 1,
   "id": "565b673c",
   "metadata": {
    "id": "565b673c"
   },
   "outputs": [
    {
     "name": "stderr",
     "output_type": "stream",
     "text": [
      "2023-11-28 11:52:33.673497: I external/local_tsl/tsl/cuda/cudart_stub.cc:31] Could not find cuda drivers on your machine, GPU will not be used.\n",
      "2023-11-28 11:52:33.705988: E external/local_xla/xla/stream_executor/cuda/cuda_dnn.cc:9261] Unable to register cuDNN factory: Attempting to register factory for plugin cuDNN when one has already been registered\n",
      "2023-11-28 11:52:33.706019: E external/local_xla/xla/stream_executor/cuda/cuda_fft.cc:607] Unable to register cuFFT factory: Attempting to register factory for plugin cuFFT when one has already been registered\n",
      "2023-11-28 11:52:33.707112: E external/local_xla/xla/stream_executor/cuda/cuda_blas.cc:1515] Unable to register cuBLAS factory: Attempting to register factory for plugin cuBLAS when one has already been registered\n",
      "2023-11-28 11:52:33.712923: I external/local_tsl/tsl/cuda/cudart_stub.cc:31] Could not find cuda drivers on your machine, GPU will not be used.\n",
      "2023-11-28 11:52:33.715510: I tensorflow/core/platform/cpu_feature_guard.cc:182] This TensorFlow binary is optimized to use available CPU instructions in performance-critical operations.\n",
      "To enable the following instructions: AVX2 FMA, in other operations, rebuild TensorFlow with the appropriate compiler flags.\n",
      "2023-11-28 11:52:39.319417: W tensorflow/compiler/tf2tensorrt/utils/py_utils.cc:38] TF-TRT Warning: Could not find TensorRT\n"
     ]
    }
   ],
   "source": [
    "import pandas as pd\n",
    "import numpy as np\n",
    "from sklearn.model_selection import train_test_split\n",
    "from sklearn.preprocessing import LabelEncoder\n",
    "from keras.models import Sequential\n",
    "from keras.layers import Dense, Dropout, Flatten\n",
    "from keras.layers import LSTM\n",
    "from tensorflow.keras.utils import to_categorical\n",
    "from keras.layers import Embedding"
   ]
  },
  {
   "cell_type": "markdown",
   "id": "dcd2f079",
   "metadata": {
    "id": "dcd2f079"
   },
   "source": [
    "## Step 2: Load and Preprocess the Data\n",
    "\n",
    "The dataset is loaded into a Pandas DataFrame. We need to preprocess this data for our neural network."
   ]
  },
  {
   "cell_type": "code",
   "execution_count": 2,
   "id": "54c50e8c",
   "metadata": {
    "colab": {
     "base_uri": "https://localhost:8080/",
     "height": 226
    },
    "id": "54c50e8c",
    "outputId": "2a3bc8c4-0a12-4564-88b2-794d113adde0"
   },
   "outputs": [
    {
     "data": {
      "text/html": [
       "<div>\n",
       "<style scoped>\n",
       "    .dataframe tbody tr th:only-of-type {\n",
       "        vertical-align: middle;\n",
       "    }\n",
       "\n",
       "    .dataframe tbody tr th {\n",
       "        vertical-align: top;\n",
       "    }\n",
       "\n",
       "    .dataframe thead th {\n",
       "        text-align: right;\n",
       "    }\n",
       "</style>\n",
       "<table border=\"1\" class=\"dataframe\">\n",
       "  <thead>\n",
       "    <tr style=\"text-align: right;\">\n",
       "      <th></th>\n",
       "      <th>surname</th>\n",
       "      <th>nationality</th>\n",
       "    </tr>\n",
       "  </thead>\n",
       "  <tbody>\n",
       "    <tr>\n",
       "      <th>0</th>\n",
       "      <td>Woodford</td>\n",
       "      <td>English</td>\n",
       "    </tr>\n",
       "    <tr>\n",
       "      <th>1</th>\n",
       "      <td>Coté</td>\n",
       "      <td>French</td>\n",
       "    </tr>\n",
       "    <tr>\n",
       "      <th>2</th>\n",
       "      <td>Kore</td>\n",
       "      <td>English</td>\n",
       "    </tr>\n",
       "    <tr>\n",
       "      <th>3</th>\n",
       "      <td>Koury</td>\n",
       "      <td>Arabic</td>\n",
       "    </tr>\n",
       "    <tr>\n",
       "      <th>4</th>\n",
       "      <td>Lebzak</td>\n",
       "      <td>Russian</td>\n",
       "    </tr>\n",
       "  </tbody>\n",
       "</table>\n",
       "</div>"
      ],
      "text/plain": [
       "    surname nationality\n",
       "0  Woodford     English\n",
       "1      Coté      French\n",
       "2      Kore     English\n",
       "3     Koury      Arabic\n",
       "4    Lebzak     Russian"
      ]
     },
     "execution_count": 2,
     "metadata": {},
     "output_type": "execute_result"
    }
   ],
   "source": [
    "# Load the dataset\n",
    "file_path = 'surnames.csv'\n",
    "surnames_data = pd.read_csv(file_path)\n",
    "\n",
    "# Display the first few rows\n",
    "surnames_data.head()"
   ]
  },
  {
   "cell_type": "markdown",
   "id": "cb4e62cd",
   "metadata": {
    "id": "cb4e62cd"
   },
   "source": [
    "### Data Preprocessing\n",
    "\n",
    "We need to encode the surnames and nationalities into a numerical format. For surnames, we'll convert each character to its ASCII value. For nationalities, we use label encoding."
   ]
  },
  {
   "cell_type": "code",
   "execution_count": 3,
   "id": "dbf95042",
   "metadata": {
    "id": "dbf95042"
   },
   "outputs": [],
   "source": [
    "\n",
    "# Creating a character set and mapping characters to integers\n",
    "characters = sorted(list(set(''.join(surnames_data['surname']))))\n",
    "char_to_int = dict((c, i) for i, c in enumerate(characters))\n",
    "\n",
    "# Function to convert surname to a sequence of integers\n",
    "def surname_to_int_array(surname):\n",
    "    return [char_to_int[char] for char in surname if char in char_to_int]\n",
    "\n",
    "# Convert surnames to sequences of integers\n",
    "surnames_data['surname_seq'] = surnames_data['surname'].apply(surname_to_int_array)\n",
    "\n",
    "# Find the length of the longest surname\n",
    "max_surname_length = max(surnames_data['surname_seq'].apply(len))\n",
    "\n",
    "# Pad the sequences so that they are all the same length\n",
    "from keras.preprocessing.sequence import pad_sequences\n",
    "surnames_data['surname_padded'] = list(pad_sequences(surnames_data['surname_seq'], maxlen=max_surname_length, padding='post'))\n",
    "\n",
    "# Convert the padded sequences and labels to numpy arrays for training\n",
    "X = np.array(surnames_data['surname_padded'].tolist())\n"
   ]
  },
  {
   "cell_type": "code",
   "execution_count": 4,
   "id": "zi_vhR4eeRD4",
   "metadata": {
    "id": "zi_vhR4eeRD4"
   },
   "outputs": [],
   "source": [
    "# Label encode nationalities\n",
    "label_encoder = LabelEncoder()\n",
    "surnames_data['nationality_encoded'] = label_encoder.fit_transform(surnames_data['nationality'])"
   ]
  },
  {
   "cell_type": "code",
   "execution_count": 5,
   "id": "23zlz9Gce1lY",
   "metadata": {
    "id": "23zlz9Gce1lY"
   },
   "outputs": [],
   "source": [
    "# One-hot encode the nationality labels\n",
    "y = to_categorical(surnames_data['nationality_encoded'])"
   ]
  },
  {
   "cell_type": "markdown",
   "id": "8030edca",
   "metadata": {
    "id": "8030edca"
   },
   "source": [
    "## Step 3: Split the Data\n",
    "\n",
    "We split the data into training, validation, and test sets."
   ]
  },
  {
   "cell_type": "code",
   "execution_count": 6,
   "id": "3df29349",
   "metadata": {
    "id": "3df29349"
   },
   "outputs": [],
   "source": [
    "\n",
    "# Stratified Split of the Data\n",
    "# We use stratified split to ensure representation of each nationality in all datasets\n",
    "\n",
    "from sklearn.model_selection import StratifiedShuffleSplit\n",
    "\n",
    "# Creating a StratifiedShuffleSplit object\n",
    "strat_split = StratifiedShuffleSplit(n_splits=1, test_size=0.3, random_state=42)\n",
    "\n",
    "# Splitting the data - this will only do one split due to n_splits=1\n",
    "for train_index, temp_index in strat_split.split(X, surnames_data['nationality_encoded']):\n",
    "    X_train, X_temp = X[train_index], X[temp_index]\n",
    "    y_train, y_temp = y[train_index], y[temp_index]\n",
    "\n",
    "# Further split X_temp and y_temp into validation and test sets\n",
    "strat_split_val_test = StratifiedShuffleSplit(n_splits=1, test_size=0.5, random_state=42)\n",
    "for val_index, test_index in strat_split_val_test.split(X_temp, y_temp.argmax(axis=1)):\n",
    "    X_val, X_test = X_temp[val_index], X_temp[test_index]\n",
    "    y_val, y_test = y_temp[val_index], y_temp[test_index]\n"
   ]
  },
  {
   "cell_type": "markdown",
   "id": "30233881",
   "metadata": {
    "id": "30233881"
   },
   "source": [
    "## Step 4: Build the LSTM Model\n",
    "\n",
    "We build a simple LSTM model using Keras."
   ]
  },
  {
   "cell_type": "code",
   "execution_count": 7,
   "id": "91c9c57e",
   "metadata": {
    "colab": {
     "base_uri": "https://localhost:8080/"
    },
    "id": "91c9c57e",
    "outputId": "3235ff2d-287e-4727-9a8d-a05757777837"
   },
   "outputs": [
    {
     "name": "stdout",
     "output_type": "stream",
     "text": [
      "Model: \"sequential\"\n",
      "_________________________________________________________________\n",
      " Layer (type)                Output Shape              Param #   \n",
      "=================================================================\n",
      " embedding (Embedding)       (None, 17, 50)            4200      \n",
      "                                                                 \n",
      " lstm (LSTM)                 (None, 64)                29440     \n",
      "                                                                 \n",
      " dense (Dense)               (None, 128)               8320      \n",
      "                                                                 \n",
      " dropout (Dropout)           (None, 128)               0         \n",
      "                                                                 \n",
      " dense_1 (Dense)             (None, 18)                2322      \n",
      "                                                                 \n",
      "=================================================================\n",
      "Total params: 44282 (172.98 KB)\n",
      "Trainable params: 44282 (172.98 KB)\n",
      "Non-trainable params: 0 (0.00 Byte)\n",
      "_________________________________________________________________\n"
     ]
    }
   ],
   "source": [
    "# Define the RNN model\n",
    "model = Sequential()\n",
    "model.add(Embedding(input_dim=len(characters), output_dim=50, input_length=max_surname_length))\n",
    "model.add(LSTM(64, return_sequences=False))  # LSTM layer with 64 units\n",
    "model.add(Dense(128, activation='relu'))\n",
    "model.add(Dropout(0.5))\n",
    "model.add(Dense(y.shape[1], activation='softmax'))\n",
    "\n",
    "# Compile the model\n",
    "model.compile(loss='categorical_crossentropy', optimizer='adam', metrics=['accuracy'])\n",
    "\n",
    "# Model summary\n",
    "model.summary()\n"
   ]
  },
  {
   "cell_type": "markdown",
   "id": "4e588334",
   "metadata": {
    "id": "4e588334"
   },
   "source": [
    "## Step 5: Train the Model\n",
    "\n",
    "We train the model using the training set and validate it on the validation set."
   ]
  },
  {
   "cell_type": "code",
   "execution_count": 8,
   "id": "6c582070",
   "metadata": {
    "colab": {
     "base_uri": "https://localhost:8080/"
    },
    "id": "6c582070",
    "outputId": "6aa1d2e6-0987-4261-9af7-273c07d98f46"
   },
   "outputs": [
    {
     "name": "stdout",
     "output_type": "stream",
     "text": [
      "Epoch 1/50\n",
      "241/241 [==============================] - 3s 6ms/step - loss: 2.3043 - accuracy: 0.2633 - val_loss: 2.0128 - val_accuracy: 0.3953\n",
      "Epoch 2/50\n",
      "241/241 [==============================] - 1s 5ms/step - loss: 1.9165 - accuracy: 0.4395 - val_loss: 1.7733 - val_accuracy: 0.4857\n",
      "Epoch 3/50\n",
      "241/241 [==============================] - 1s 5ms/step - loss: 1.6871 - accuracy: 0.5239 - val_loss: 1.5956 - val_accuracy: 0.5294\n",
      "Epoch 4/50\n",
      "241/241 [==============================] - 1s 5ms/step - loss: 1.5517 - accuracy: 0.5602 - val_loss: 1.4986 - val_accuracy: 0.5592\n",
      "Epoch 5/50\n",
      "241/241 [==============================] - 1s 5ms/step - loss: 1.4505 - accuracy: 0.5878 - val_loss: 1.4711 - val_accuracy: 0.5719\n",
      "Epoch 6/50\n",
      "241/241 [==============================] - 1s 5ms/step - loss: 1.3867 - accuracy: 0.5960 - val_loss: 1.3838 - val_accuracy: 0.6047\n",
      "Epoch 7/50\n",
      "241/241 [==============================] - 1s 5ms/step - loss: 1.3332 - accuracy: 0.6107 - val_loss: 1.3249 - val_accuracy: 0.6072\n",
      "Epoch 8/50\n",
      "241/241 [==============================] - 1s 5ms/step - loss: 1.2967 - accuracy: 0.6259 - val_loss: 1.3219 - val_accuracy: 0.6175\n",
      "Epoch 9/50\n",
      "241/241 [==============================] - 1s 5ms/step - loss: 1.2588 - accuracy: 0.6369 - val_loss: 1.2567 - val_accuracy: 0.6333\n",
      "Epoch 10/50\n",
      "241/241 [==============================] - 1s 5ms/step - loss: 1.2109 - accuracy: 0.6561 - val_loss: 1.2345 - val_accuracy: 0.6503\n",
      "Epoch 11/50\n",
      "241/241 [==============================] - 1s 5ms/step - loss: 1.1643 - accuracy: 0.6703 - val_loss: 1.1991 - val_accuracy: 0.6570\n",
      "Epoch 12/50\n",
      "241/241 [==============================] - 1s 5ms/step - loss: 1.1304 - accuracy: 0.6759 - val_loss: 1.1445 - val_accuracy: 0.6800\n",
      "Epoch 13/50\n",
      "241/241 [==============================] - 1s 5ms/step - loss: 1.1022 - accuracy: 0.6848 - val_loss: 1.1250 - val_accuracy: 0.6831\n",
      "Epoch 14/50\n",
      "241/241 [==============================] - 1s 5ms/step - loss: 1.0521 - accuracy: 0.7000 - val_loss: 1.1251 - val_accuracy: 0.6806\n",
      "Epoch 15/50\n",
      "241/241 [==============================] - 1s 5ms/step - loss: 1.0349 - accuracy: 0.7047 - val_loss: 1.0751 - val_accuracy: 0.6970\n",
      "Epoch 16/50\n",
      "241/241 [==============================] - 1s 5ms/step - loss: 1.0035 - accuracy: 0.7123 - val_loss: 1.1378 - val_accuracy: 0.6764\n",
      "Epoch 17/50\n",
      "241/241 [==============================] - 1s 5ms/step - loss: 0.9937 - accuracy: 0.7168 - val_loss: 1.0910 - val_accuracy: 0.6916\n",
      "Epoch 18/50\n",
      "241/241 [==============================] - 1s 5ms/step - loss: 0.9668 - accuracy: 0.7203 - val_loss: 1.0698 - val_accuracy: 0.6861\n",
      "Epoch 19/50\n",
      "241/241 [==============================] - 1s 5ms/step - loss: 0.9568 - accuracy: 0.7259 - val_loss: 1.0163 - val_accuracy: 0.7061\n",
      "Epoch 20/50\n",
      "241/241 [==============================] - 1s 5ms/step - loss: 0.9156 - accuracy: 0.7363 - val_loss: 1.0638 - val_accuracy: 0.6946\n",
      "Epoch 21/50\n",
      "241/241 [==============================] - 1s 5ms/step - loss: 0.9094 - accuracy: 0.7361 - val_loss: 1.0634 - val_accuracy: 0.6988\n",
      "Epoch 22/50\n",
      "241/241 [==============================] - 1s 5ms/step - loss: 0.8806 - accuracy: 0.7446 - val_loss: 1.0356 - val_accuracy: 0.7177\n",
      "Epoch 23/50\n",
      "241/241 [==============================] - 1s 5ms/step - loss: 0.8762 - accuracy: 0.7489 - val_loss: 0.9979 - val_accuracy: 0.7189\n",
      "Epoch 24/50\n",
      "241/241 [==============================] - 1s 5ms/step - loss: 0.8596 - accuracy: 0.7494 - val_loss: 1.0175 - val_accuracy: 0.7250\n",
      "Epoch 25/50\n",
      "241/241 [==============================] - 1s 5ms/step - loss: 0.8330 - accuracy: 0.7559 - val_loss: 0.9876 - val_accuracy: 0.7177\n",
      "Epoch 26/50\n",
      "241/241 [==============================] - 1s 5ms/step - loss: 0.8223 - accuracy: 0.7562 - val_loss: 0.9917 - val_accuracy: 0.7219\n",
      "Epoch 27/50\n",
      "241/241 [==============================] - 1s 5ms/step - loss: 0.8074 - accuracy: 0.7606 - val_loss: 0.9733 - val_accuracy: 0.7286\n",
      "Epoch 28/50\n",
      "241/241 [==============================] - 1s 5ms/step - loss: 0.7909 - accuracy: 0.7633 - val_loss: 1.0087 - val_accuracy: 0.7207\n",
      "Epoch 29/50\n",
      "241/241 [==============================] - 1s 5ms/step - loss: 0.7861 - accuracy: 0.7655 - val_loss: 0.9890 - val_accuracy: 0.7286\n",
      "Epoch 30/50\n",
      "241/241 [==============================] - 1s 5ms/step - loss: 0.7701 - accuracy: 0.7697 - val_loss: 1.0097 - val_accuracy: 0.7213\n",
      "Epoch 31/50\n",
      "241/241 [==============================] - 1s 5ms/step - loss: 0.7543 - accuracy: 0.7692 - val_loss: 0.9852 - val_accuracy: 0.7286\n",
      "Epoch 32/50\n",
      "241/241 [==============================] - 1s 5ms/step - loss: 0.7498 - accuracy: 0.7752 - val_loss: 1.0003 - val_accuracy: 0.7213\n",
      "Epoch 33/50\n",
      "241/241 [==============================] - 1s 5ms/step - loss: 0.7297 - accuracy: 0.7783 - val_loss: 1.0005 - val_accuracy: 0.7201\n",
      "Epoch 34/50\n",
      "241/241 [==============================] - 1s 5ms/step - loss: 0.7211 - accuracy: 0.7814 - val_loss: 0.9686 - val_accuracy: 0.7389\n",
      "Epoch 35/50\n",
      "241/241 [==============================] - 1s 5ms/step - loss: 0.7046 - accuracy: 0.7869 - val_loss: 1.0299 - val_accuracy: 0.7292\n",
      "Epoch 36/50\n",
      "241/241 [==============================] - 1s 5ms/step - loss: 0.6947 - accuracy: 0.7892 - val_loss: 0.9690 - val_accuracy: 0.7250\n",
      "Epoch 37/50\n",
      "241/241 [==============================] - 1s 5ms/step - loss: 0.6875 - accuracy: 0.7891 - val_loss: 0.9905 - val_accuracy: 0.7335\n",
      "Epoch 38/50\n",
      "241/241 [==============================] - 1s 5ms/step - loss: 0.6822 - accuracy: 0.7920 - val_loss: 1.0329 - val_accuracy: 0.7231\n",
      "Epoch 39/50\n",
      "241/241 [==============================] - 1s 5ms/step - loss: 0.6506 - accuracy: 0.8008 - val_loss: 0.9988 - val_accuracy: 0.7401\n",
      "Epoch 40/50\n",
      "241/241 [==============================] - 1s 5ms/step - loss: 0.6625 - accuracy: 0.7921 - val_loss: 1.0386 - val_accuracy: 0.7207\n",
      "Epoch 41/50\n",
      "241/241 [==============================] - 1s 5ms/step - loss: 0.6519 - accuracy: 0.8020 - val_loss: 0.9841 - val_accuracy: 0.7420\n",
      "Epoch 42/50\n",
      "241/241 [==============================] - 1s 5ms/step - loss: 0.6395 - accuracy: 0.7999 - val_loss: 0.9682 - val_accuracy: 0.7420\n",
      "Epoch 43/50\n",
      "241/241 [==============================] - 1s 5ms/step - loss: 0.6238 - accuracy: 0.8028 - val_loss: 1.0083 - val_accuracy: 0.7438\n",
      "Epoch 44/50\n",
      "241/241 [==============================] - 1s 5ms/step - loss: 0.6069 - accuracy: 0.8073 - val_loss: 0.9913 - val_accuracy: 0.7316\n",
      "Epoch 45/50\n",
      "241/241 [==============================] - 1s 5ms/step - loss: 0.6134 - accuracy: 0.8080 - val_loss: 0.9996 - val_accuracy: 0.7426\n",
      "Epoch 46/50\n",
      "241/241 [==============================] - 1s 5ms/step - loss: 0.5953 - accuracy: 0.8126 - val_loss: 1.0429 - val_accuracy: 0.7347\n",
      "Epoch 47/50\n",
      "241/241 [==============================] - 1s 5ms/step - loss: 0.5971 - accuracy: 0.8091 - val_loss: 1.0062 - val_accuracy: 0.7310\n",
      "Epoch 48/50\n",
      "241/241 [==============================] - 1s 5ms/step - loss: 0.5707 - accuracy: 0.8149 - val_loss: 1.0082 - val_accuracy: 0.7438\n",
      "Epoch 49/50\n",
      "241/241 [==============================] - 1s 5ms/step - loss: 0.5601 - accuracy: 0.8197 - val_loss: 1.0450 - val_accuracy: 0.7401\n",
      "Epoch 50/50\n",
      "241/241 [==============================] - 1s 5ms/step - loss: 0.5476 - accuracy: 0.8262 - val_loss: 1.0778 - val_accuracy: 0.7328\n"
     ]
    }
   ],
   "source": [
    "# Train the model\n",
    "history = model.fit(X_train, y_train, epochs=50, batch_size=32, validation_data=(X_val, y_val))"
   ]
  },
  {
   "cell_type": "code",
   "execution_count": 9,
   "id": "4MM2zByGf3LB",
   "metadata": {
    "colab": {
     "base_uri": "https://localhost:8080/",
     "height": 431
    },
    "id": "4MM2zByGf3LB",
    "outputId": "cf956aaf-02b9-4f95-969b-e84fab8d7e55"
   },
   "outputs": [
    {
     "data": {
      "image/png": "[encoded data removed]",
      "text/plain": [
       "<Figure size 1200x500 with 2 Axes>"
      ]
     },
     "metadata": {},
     "output_type": "display_data"
    }
   ],
   "source": [
    "import matplotlib.pyplot as plt\n",
    "\n",
    "# Plotting training & validation accuracy values\n",
    "plt.figure(figsize=(12, 5))\n",
    "\n",
    "# Subplot for accuracy\n",
    "plt.subplot(1, 2, 1)\n",
    "plt.plot(history.history['accuracy'])\n",
    "plt.plot(history.history['val_accuracy'])\n",
    "plt.title('Model Accuracy')\n",
    "plt.ylabel('Accuracy')\n",
    "plt.xlabel('Epoch')\n",
    "plt.legend(['Train', 'Validation'], loc='upper left')\n",
    "\n",
    "# Subplot for loss\n",
    "plt.subplot(1, 2, 2)\n",
    "plt.plot(history.history['loss'])\n",
    "plt.plot(history.history['val_loss'])\n",
    "plt.title('Model Loss')\n",
    "plt.ylabel('Loss')\n",
    "plt.xlabel('Epoch')\n",
    "plt.legend(['Train', 'Validation'], loc='upper left')\n",
    "\n",
    "plt.show()\n"
   ]
  },
  {
   "cell_type": "markdown",
   "id": "9802c367",
   "metadata": {
    "id": "9802c367"
   },
   "source": [
    "## Step 6: Evaluate the Model\n",
    "\n",
    "Evaluate the model's performance on the test set."
   ]
  },
  {
   "cell_type": "code",
   "execution_count": 10,
   "id": "e73ab849",
   "metadata": {
    "colab": {
     "base_uri": "https://localhost:8080/"
    },
    "id": "e73ab849",
    "outputId": "837677a1-2bbf-40e2-8f77-c9a6a3e45359"
   },
   "outputs": [
    {
     "name": "stdout",
     "output_type": "stream",
     "text": [
      "52/52 [==============================] - 0s 2ms/step - loss: 1.0877 - accuracy: 0.7341\n",
      "Test Accuracy: 73.41%\n"
     ]
    }
   ],
   "source": [
    "# Evaluate the model\n",
    "test_loss, test_accuracy = model.evaluate(X_test, y_test)\n",
    "print(f\"Test Accuracy: {test_accuracy*100:.2f}%\")"
   ]
  },
  {
   "cell_type": "code",
   "execution_count": 27,
   "id": "f7dc4c6e",
   "metadata": {},
   "outputs": [
    {
     "name": "stdout",
     "output_type": "stream",
     "text": [
      "1/1 [==============================] - 0s 14ms/step\n",
      "      surname predicted_class     proba predicted_class2    proba2\n",
      "0  Al Baroudi         Italian  0.979509          Spanish  0.016576\n",
      "7     Jussien         English  0.789624          Russian  0.092048\n",
      "2    Firouzja           Greek  0.630242         Japanese  0.234900\n",
      "8      Lefort         English  0.598090           French  0.187822\n",
      "4       Rilke         English  0.468747            Czech  0.205662\n",
      "5    Remarque          French  0.435645          English  0.239159\n",
      "1  Van Forest         English  0.368408           French  0.315461\n",
      "3       Jando         Italian  0.228174          Spanish  0.211370\n",
      "6      Créquy           Czech  0.220176          English  0.205183\n"
     ]
    }
   ],
   "source": [
    "#topredict=['Mustermann','Eberwein','Sauvetre','Schumacher','Philippi','Schotte','Schmitz','Dupont','Leblanc']\n",
    "topredict=['Al Baroudi','Van Forest','Firouzja','Jando','Rilke','Remarque','Créquy','Jussien','Lefort']\n",
    "#topredict=surnames_data['surname']\n",
    "\n",
    "def fancy_p(modele,liste):\n",
    "    tpdata=pd.DataFrame(pd.DataFrame({'surname': np.array(liste)}))\n",
    "    tpdata['surname_seq'] = tpdata['surname'].apply(surname_to_int_array)\n",
    "    from keras.preprocessing.sequence import pad_sequences\n",
    "    tpdata['surname_padded'] = list(pad_sequences(tpdata['surname_seq'], maxlen=max_surname_length, padding='post'))\n",
    "    Xtp=np.array(tpdata['surname_padded'].tolist())\n",
    "\n",
    "    predicted_probabilities=model.predict(Xtp)\n",
    "    predicted_class = np.argmax(predicted_probabilities, axis=1)\n",
    "    predicted_probabilities1=np.copy(predicted_probabilities)\n",
    "    for i, idx in enumerate(predicted_class):\n",
    "        predicted_probabilities1[i, idx] = 0\n",
    "    predicted_class2 = np.argmax(predicted_probabilities1, axis=1)\n",
    "    predict_mp = np.max(predicted_probabilities, axis=1)\n",
    "    predict_mp2 = np.max(predicted_probabilities1, axis=1)\n",
    "    \n",
    "    tpdata[\"predicted_class\"]=label_encoder.inverse_transform(predicted_class).transpose()\n",
    "    tpdata[\"proba\"]=predict_mp\n",
    "    \n",
    "    tpdata[\"predicted_class2\"]=label_encoder.inverse_transform(predicted_class2).transpose()\n",
    "    tpdata[\"proba2\"]=predict_mp2\n",
    "    \n",
    "    print(tpdata[['surname','predicted_class','proba','predicted_class2','proba2']].sort_values(\"proba\", ascending=False))\n",
    "    return tpdata\n",
    "\n",
    "fp=fancy_p(model,topredict)"
   ]
  },
  {
   "cell_type": "markdown",
   "id": "3c3a5d3c",
   "metadata": {
    "id": "3c3a5d3c"
   },
   "source": [
    "## Step 7: Save the Model (Optional)\n",
    "\n",
    "Optionally, we can save the model for future use."
   ]
  },
  {
   "cell_type": "code",
   "execution_count": 11,
   "id": "14ee45e0",
   "metadata": {
    "colab": {
     "base_uri": "https://localhost:8080/"
    },
    "id": "14ee45e0",
    "outputId": "e6926a4e-be89-4abc-eaa9-46a5093fa5ec"
   },
   "outputs": [
    {
     "name": "stderr",
     "output_type": "stream",
     "text": [
      "/users/2024/ds2/122000483/.local/lib/python3.11/site-packages/keras/src/engine/training.py:3103: UserWarning: You are saving your model as an HDF5 file via `model.save()`. This file format is considered legacy. We recommend using instead the native Keras format, e.g. `model.save('my_model.keras')`.\n",
      "  saving_api.save_model(\n"
     ]
    }
   ],
   "source": [
    "# Save the model\n",
    "model.save('CNN_surname_nationality_classifier.h5')"
   ]
  },
  {
   "cell_type": "markdown",
   "id": "r23cQfRdgQGT",
   "metadata": {
    "id": "r23cQfRdgQGT"
   },
   "source": [
    "TODO: Give a surname to the model and ask the model to predict the nationality of it."
   ]
  },
  {
   "cell_type": "markdown",
   "id": "B0gZlsuFhRTR",
   "metadata": {
    "id": "B0gZlsuFhRTR"
   },
   "source": [
    "TODO: change the architecture of the model to reduce the overfitting"
   ]
  }
 ],
 "metadata": {
  "colab": {
   "include_colab_link": true,
   "provenance": []
  },
  "kernelspec": {
   "display_name": "Python 3 (ipykernel)",
   "language": "python",
   "name": "python3"
  },
  "language_info": {
   "codemirror_mode": {
    "name": "ipython",
    "version": 3
   },
   "file_extension": ".py",
   "mimetype": "text/x-python",
   "name": "python",
   "nbconvert_exporter": "python",
   "pygments_lexer": "ipython3",
   "version": "3.11.4"
  }
 },
 "nbformat": 4,
 "nbformat_minor": 5
}
