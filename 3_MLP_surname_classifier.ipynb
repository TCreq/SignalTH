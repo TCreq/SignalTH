{
 "cells": [
  {
   "cell_type": "markdown",
   "id": "23260a71",
   "metadata": {
    "colab_type": "text",
    "id": "view-in-github"
   },
   "source": [
    "<a href=\"https://colab.research.google.com/github/pejmanrasti/NLP/blob/main/3_MLP_surname_classifier.ipynb\" target=\"_parent\"><img src=\"https://colab.research.google.com/assets/colab-badge.svg\" alt=\"Open In Colab\"/></a>"
   ]
  },
  {
   "cell_type": "markdown",
   "id": "6b2b64e7",
   "metadata": {
    "id": "6b2b64e7"
   },
   "source": [
    "# Multi-Layer Perceptron (MLP) for Surname Nationality Classification\n",
    "\n",
    "This notebook demonstrates how to build and train a Multi-Layer Perceptron (MLP) to classify surnames based on their nationalities using a dataset of surnames and corresponding nationalities."
   ]
  },
  {
   "cell_type": "code",
   "execution_count": 1,
   "id": "c8e5a6b6",
   "metadata": {},
   "outputs": [
    {
     "name": "stderr",
     "output_type": "stream",
     "text": [
      "2023-12-05 14:17:42.312039: I external/local_tsl/tsl/cuda/cudart_stub.cc:31] Could not find cuda drivers on your machine, GPU will not be used.\n",
      "2023-12-05 14:17:42.343331: E external/local_xla/xla/stream_executor/cuda/cuda_dnn.cc:9261] Unable to register cuDNN factory: Attempting to register factory for plugin cuDNN when one has already been registered\n",
      "2023-12-05 14:17:42.343359: E external/local_xla/xla/stream_executor/cuda/cuda_fft.cc:607] Unable to register cuFFT factory: Attempting to register factory for plugin cuFFT when one has already been registered\n",
      "2023-12-05 14:17:42.344341: E external/local_xla/xla/stream_executor/cuda/cuda_blas.cc:1515] Unable to register cuBLAS factory: Attempting to register factory for plugin cuBLAS when one has already been registered\n",
      "2023-12-05 14:17:42.349981: I external/local_tsl/tsl/cuda/cudart_stub.cc:31] Could not find cuda drivers on your machine, GPU will not be used.\n",
      "2023-12-05 14:17:42.350521: I tensorflow/core/platform/cpu_feature_guard.cc:182] This TensorFlow binary is optimized to use available CPU instructions in performance-critical operations.\n",
      "To enable the following instructions: AVX2 FMA, in other operations, rebuild TensorFlow with the appropriate compiler flags.\n",
      "2023-12-05 14:17:45.211934: W tensorflow/compiler/tf2tensorrt/utils/py_utils.cc:38] TF-TRT Warning: Could not find TensorRT\n"
     ]
    },
    {
     "name": "stdout",
     "output_type": "stream",
     "text": [
      "TensorFlow version: 2.15.0\n",
      "Keras version: 2.15.0\n"
     ]
    }
   ],
   "source": [
    "import tensorflow as tf\n",
    "import keras\n",
    "print(\"TensorFlow version:\", tf.__version__)\n",
    "print(\"Keras version:\", keras.__version__)"
   ]
  },
  {
   "cell_type": "code",
   "execution_count": 2,
   "id": "565b673c",
   "metadata": {
    "id": "565b673c"
   },
   "outputs": [],
   "source": [
    "import pandas as pd\n",
    "import numpy as np\n",
    "from sklearn.model_selection import train_test_split\n",
    "from sklearn.preprocessing import LabelEncoder\n",
    "from keras.models import Sequential\n",
    "from keras.layers import Dense, Dropout, Flatten\n",
    "from tensorflow.keras.utils import to_categorical"
   ]
  },
  {
   "cell_type": "markdown",
   "id": "dcd2f079",
   "metadata": {
    "id": "dcd2f079"
   },
   "source": [
    "## Step 2: Load and Preprocess the Data\n",
    "\n",
    "The dataset is loaded into a Pandas DataFrame. We need to preprocess this data for our neural network."
   ]
  },
  {
   "cell_type": "code",
   "execution_count": 3,
   "id": "54c50e8c",
   "metadata": {
    "colab": {
     "base_uri": "https://localhost:8080/",
     "height": 226
    },
    "id": "54c50e8c",
    "outputId": "a8d4505c-0205-4ccc-c5db-2049ecad1b2e"
   },
   "outputs": [
    {
     "data": {
      "text/html": [
       "<div>\n",
       "<style scoped>\n",
       "    .dataframe tbody tr th:only-of-type {\n",
       "        vertical-align: middle;\n",
       "    }\n",
       "\n",
       "    .dataframe tbody tr th {\n",
       "        vertical-align: top;\n",
       "    }\n",
       "\n",
       "    .dataframe thead th {\n",
       "        text-align: right;\n",
       "    }\n",
       "</style>\n",
       "<table border=\"1\" class=\"dataframe\">\n",
       "  <thead>\n",
       "    <tr style=\"text-align: right;\">\n",
       "      <th></th>\n",
       "      <th>surname</th>\n",
       "      <th>nationality</th>\n",
       "    </tr>\n",
       "  </thead>\n",
       "  <tbody>\n",
       "    <tr>\n",
       "      <th>0</th>\n",
       "      <td>Woodford</td>\n",
       "      <td>English</td>\n",
       "    </tr>\n",
       "    <tr>\n",
       "      <th>1</th>\n",
       "      <td>Coté</td>\n",
       "      <td>French</td>\n",
       "    </tr>\n",
       "    <tr>\n",
       "      <th>2</th>\n",
       "      <td>Kore</td>\n",
       "      <td>English</td>\n",
       "    </tr>\n",
       "    <tr>\n",
       "      <th>3</th>\n",
       "      <td>Koury</td>\n",
       "      <td>Arabic</td>\n",
       "    </tr>\n",
       "    <tr>\n",
       "      <th>4</th>\n",
       "      <td>Lebzak</td>\n",
       "      <td>Russian</td>\n",
       "    </tr>\n",
       "  </tbody>\n",
       "</table>\n",
       "</div>"
      ],
      "text/plain": [
       "    surname nationality\n",
       "0  Woodford     English\n",
       "1      Coté      French\n",
       "2      Kore     English\n",
       "3     Koury      Arabic\n",
       "4    Lebzak     Russian"
      ]
     },
     "execution_count": 3,
     "metadata": {},
     "output_type": "execute_result"
    }
   ],
   "source": [
    "# Load the dataset\n",
    "file_path = 'surnames.csv'\n",
    "surnames_data = pd.read_csv(file_path)\n",
    "\n",
    "# Display the first few rows\n",
    "surnames_data.head()"
   ]
  },
  {
   "cell_type": "markdown",
   "id": "cb4e62cd",
   "metadata": {
    "id": "cb4e62cd"
   },
   "source": [
    "### Data Preprocessing\n",
    "\n",
    "We need to encode the surnames and nationalities into a numerical format. For surnames, we'll convert each character to its ASCII value. For nationalities, we use label encoding."
   ]
  },
  {
   "cell_type": "code",
   "execution_count": 4,
   "id": "dbf95042",
   "metadata": {
    "id": "dbf95042"
   },
   "outputs": [],
   "source": [
    "\n",
    "# Creating a character set and mapping characters to integers\n",
    "characters = sorted(list(set(''.join(surnames_data['surname']))))\n",
    "char_to_int = dict((c, i) for i, c in enumerate(characters))\n",
    "\n",
    "# Function to convert surname to a sequence of integers\n",
    "def surname_to_int_array(surname):\n",
    "    return [char_to_int[char] for char in surname if char in char_to_int]\n",
    "\n",
    "# Convert surnames to sequences of integers\n",
    "surnames_data['surname_seq'] = surnames_data['surname'].apply(surname_to_int_array)\n",
    "\n",
    "# Find the length of the longest surname\n",
    "max_surname_length = max(surnames_data['surname_seq'].apply(len))\n",
    "\n",
    "# Pad the sequences so that they are all the same length\n",
    "from keras.preprocessing.sequence import pad_sequences\n",
    "surnames_data['surname_padded'] = list(pad_sequences(surnames_data['surname_seq'], maxlen=max_surname_length, padding='post'))\n",
    "\n",
    "# Convert the padded sequences and labels to numpy arrays for training\n",
    "X = np.array(surnames_data['surname_padded'].tolist())\n"
   ]
  },
  {
   "cell_type": "code",
   "execution_count": 5,
   "id": "zi_vhR4eeRD4",
   "metadata": {
    "id": "zi_vhR4eeRD4"
   },
   "outputs": [],
   "source": [
    "# Label encode nationalities\n",
    "label_encoder = LabelEncoder()\n",
    "surnames_data['nationality_encoded'] = label_encoder.fit_transform(surnames_data['nationality'])"
   ]
  },
  {
   "cell_type": "code",
   "execution_count": 6,
   "id": "23zlz9Gce1lY",
   "metadata": {
    "id": "23zlz9Gce1lY"
   },
   "outputs": [],
   "source": [
    "# Label encode nationalities\n",
    "label_encoder = LabelEncoder()\n",
    "surnames_data['nationality_encoded'] = label_encoder.fit_transform(surnames_data['nationality'])\n",
    "# One-hot encode the nationality labels\n",
    "y = to_categorical(surnames_data['nationality_encoded'])"
   ]
  },
  {
   "cell_type": "markdown",
   "id": "8030edca",
   "metadata": {
    "id": "8030edca"
   },
   "source": [
    "## Step 3: Split the Data\n",
    "\n",
    "We split the data into training, validation, and test sets."
   ]
  },
  {
   "cell_type": "code",
   "execution_count": 7,
   "id": "3df29349",
   "metadata": {
    "id": "3df29349"
   },
   "outputs": [],
   "source": [
    "\n",
    "# Stratified Split of the Data\n",
    "# We use stratified split to ensure representation of each nationality in all datasets\n",
    "\n",
    "from sklearn.model_selection import StratifiedShuffleSplit\n",
    "\n",
    "# Creating a StratifiedShuffleSplit object\n",
    "strat_split = StratifiedShuffleSplit(n_splits=1, test_size=0.3, random_state=42)\n",
    "\n",
    "# Splitting the data - this will only do one split due to n_splits=1\n",
    "for train_index, temp_index in strat_split.split(X, surnames_data['nationality_encoded']):\n",
    "    X_train, X_temp = X[train_index], X[temp_index]\n",
    "    y_train, y_temp = y[train_index], y[temp_index]\n",
    "\n",
    "# Further split X_temp and y_temp into validation and test sets\n",
    "strat_split_val_test = StratifiedShuffleSplit(n_splits=1, test_size=0.5, random_state=42)\n",
    "for val_index, test_index in strat_split_val_test.split(X_temp, y_temp.argmax(axis=1)):\n",
    "    X_val, X_test = X_temp[val_index], X_temp[test_index]\n",
    "    y_val, y_test = y_temp[val_index], y_temp[test_index]\n"
   ]
  },
  {
   "cell_type": "markdown",
   "id": "30233881",
   "metadata": {
    "id": "30233881"
   },
   "source": [
    "## Step 4: Build the MLP Model\n",
    "\n",
    "We build a simple MLP model using Keras."
   ]
  },
  {
   "cell_type": "code",
   "execution_count": 8,
   "id": "91c9c57e",
   "metadata": {
    "colab": {
     "base_uri": "https://localhost:8080/"
    },
    "id": "91c9c57e",
    "outputId": "ac65bfec-3e36-452e-e1bb-d8785e2034b8"
   },
   "outputs": [
    {
     "name": "stdout",
     "output_type": "stream",
     "text": [
      "Model: \"sequential\"\n",
      "_________________________________________________________________\n",
      " Layer (type)                Output Shape              Param #   \n",
      "=================================================================\n",
      " embedding (Embedding)       (None, 17, 50)            4200      \n",
      "                                                                 \n",
      " flatten (Flatten)           (None, 850)               0         \n",
      "                                                                 \n",
      " dense (Dense)               (None, 128)               108928    \n",
      "                                                                 \n",
      " dropout (Dropout)           (None, 128)               0         \n",
      "                                                                 \n",
      " dense_1 (Dense)             (None, 64)                8256      \n",
      "                                                                 \n",
      " dense_2 (Dense)             (None, 18)                1170      \n",
      "                                                                 \n",
      "=================================================================\n",
      "Total params: 122554 (478.73 KB)\n",
      "Trainable params: 122554 (478.73 KB)\n",
      "Non-trainable params: 0 (0.00 Byte)\n",
      "_________________________________________________________________\n"
     ]
    }
   ],
   "source": [
    "# Update the MLP model to include an Embedding layer\n",
    "from keras.layers import Embedding\n",
    "\n",
    "# Define the model\n",
    "model = Sequential()\n",
    "model.add(Embedding(input_dim=len(characters), output_dim=50, input_length=max_surname_length))\n",
    "model.add(Flatten())  # Flatten the output of the embedding layer\n",
    "model.add(Dense(128, activation='relu'))\n",
    "model.add(Dropout(0.5))\n",
    "model.add(Dense(64, activation='relu'))\n",
    "model.add(Dense(y.shape[1], activation='softmax'))\n",
    "\n",
    "# Compile the model\n",
    "model.compile(loss='categorical_crossentropy', optimizer='adam', metrics=['accuracy'])\n",
    "\n",
    "# Model summary\n",
    "model.summary()"
   ]
  },
  {
   "cell_type": "markdown",
   "id": "4e588334",
   "metadata": {
    "id": "4e588334"
   },
   "source": [
    "## Step 5: Train the Model\n",
    "\n",
    "We train the model using the training set and validate it on the validation set."
   ]
  },
  {
   "cell_type": "code",
   "execution_count": 9,
   "id": "6c582070",
   "metadata": {
    "colab": {
     "base_uri": "https://localhost:8080/"
    },
    "id": "6c582070",
    "outputId": "36cf01ab-c47c-43a9-dde8-ab0d03f9b958"
   },
   "outputs": [
    {
     "name": "stdout",
     "output_type": "stream",
     "text": [
      "Epoch 1/50\n",
      "241/241 [==============================] - 1s 3ms/step - loss: 2.0695 - accuracy: 0.4023 - val_loss: 1.7001 - val_accuracy: 0.5124\n",
      "Epoch 2/50\n",
      "241/241 [==============================] - 0s 2ms/step - loss: 1.5944 - accuracy: 0.5497 - val_loss: 1.4519 - val_accuracy: 0.5695\n",
      "Epoch 3/50\n",
      "241/241 [==============================] - 1s 2ms/step - loss: 1.3935 - accuracy: 0.5994 - val_loss: 1.3077 - val_accuracy: 0.6163\n",
      "Epoch 4/50\n",
      "241/241 [==============================] - 0s 2ms/step - loss: 1.2525 - accuracy: 0.6379 - val_loss: 1.2229 - val_accuracy: 0.6327\n",
      "Epoch 5/50\n",
      "241/241 [==============================] - 0s 2ms/step - loss: 1.1653 - accuracy: 0.6590 - val_loss: 1.1430 - val_accuracy: 0.6594\n",
      "Epoch 6/50\n",
      "241/241 [==============================] - 0s 2ms/step - loss: 1.0776 - accuracy: 0.6801 - val_loss: 1.0849 - val_accuracy: 0.6849\n",
      "Epoch 7/50\n",
      "241/241 [==============================] - 1s 2ms/step - loss: 1.0081 - accuracy: 0.7015 - val_loss: 1.0579 - val_accuracy: 0.6861\n",
      "Epoch 8/50\n",
      "241/241 [==============================] - 0s 2ms/step - loss: 0.9727 - accuracy: 0.7096 - val_loss: 1.0457 - val_accuracy: 0.6928\n",
      "Epoch 9/50\n",
      "241/241 [==============================] - 1s 2ms/step - loss: 0.9178 - accuracy: 0.7256 - val_loss: 1.0006 - val_accuracy: 0.7061\n",
      "Epoch 10/50\n",
      "241/241 [==============================] - 0s 2ms/step - loss: 0.8912 - accuracy: 0.7313 - val_loss: 1.0036 - val_accuracy: 0.7019\n",
      "Epoch 11/50\n",
      "241/241 [==============================] - 0s 2ms/step - loss: 0.8628 - accuracy: 0.7329 - val_loss: 0.9842 - val_accuracy: 0.7067\n",
      "Epoch 12/50\n",
      "241/241 [==============================] - 1s 2ms/step - loss: 0.8304 - accuracy: 0.7432 - val_loss: 0.9692 - val_accuracy: 0.7128\n",
      "Epoch 13/50\n",
      "241/241 [==============================] - 0s 2ms/step - loss: 0.8053 - accuracy: 0.7559 - val_loss: 0.9708 - val_accuracy: 0.7152\n",
      "Epoch 14/50\n",
      "241/241 [==============================] - 0s 2ms/step - loss: 0.7931 - accuracy: 0.7533 - val_loss: 0.9490 - val_accuracy: 0.7177\n",
      "Epoch 15/50\n",
      "241/241 [==============================] - 0s 2ms/step - loss: 0.7517 - accuracy: 0.7698 - val_loss: 0.9559 - val_accuracy: 0.7189\n",
      "Epoch 16/50\n",
      "241/241 [==============================] - 0s 2ms/step - loss: 0.7327 - accuracy: 0.7701 - val_loss: 0.9738 - val_accuracy: 0.7158\n",
      "Epoch 17/50\n",
      "241/241 [==============================] - 1s 2ms/step - loss: 0.7213 - accuracy: 0.7672 - val_loss: 0.9442 - val_accuracy: 0.7213\n",
      "Epoch 18/50\n",
      "241/241 [==============================] - 0s 2ms/step - loss: 0.7000 - accuracy: 0.7770 - val_loss: 0.9523 - val_accuracy: 0.7207\n",
      "Epoch 19/50\n",
      "241/241 [==============================] - 0s 2ms/step - loss: 0.6831 - accuracy: 0.7826 - val_loss: 0.9525 - val_accuracy: 0.7304\n",
      "Epoch 20/50\n",
      "241/241 [==============================] - 1s 2ms/step - loss: 0.6645 - accuracy: 0.7882 - val_loss: 0.9677 - val_accuracy: 0.7268\n",
      "Epoch 21/50\n",
      "241/241 [==============================] - 0s 2ms/step - loss: 0.6580 - accuracy: 0.7886 - val_loss: 0.9605 - val_accuracy: 0.7304\n",
      "Epoch 22/50\n",
      "241/241 [==============================] - 0s 2ms/step - loss: 0.6321 - accuracy: 0.7944 - val_loss: 0.9575 - val_accuracy: 0.7268\n",
      "Epoch 23/50\n",
      "241/241 [==============================] - 0s 2ms/step - loss: 0.6320 - accuracy: 0.7942 - val_loss: 0.9490 - val_accuracy: 0.7389\n",
      "Epoch 24/50\n",
      "241/241 [==============================] - 0s 2ms/step - loss: 0.6126 - accuracy: 0.7957 - val_loss: 0.9637 - val_accuracy: 0.7322\n",
      "Epoch 25/50\n",
      "241/241 [==============================] - 0s 2ms/step - loss: 0.6101 - accuracy: 0.8015 - val_loss: 0.9709 - val_accuracy: 0.7292\n",
      "Epoch 26/50\n",
      "241/241 [==============================] - 0s 2ms/step - loss: 0.5788 - accuracy: 0.8099 - val_loss: 0.9727 - val_accuracy: 0.7280\n",
      "Epoch 27/50\n",
      "241/241 [==============================] - 0s 2ms/step - loss: 0.5912 - accuracy: 0.8055 - val_loss: 0.9742 - val_accuracy: 0.7243\n",
      "Epoch 28/50\n",
      "241/241 [==============================] - 0s 2ms/step - loss: 0.5748 - accuracy: 0.8110 - val_loss: 0.9878 - val_accuracy: 0.7250\n",
      "Epoch 29/50\n",
      "241/241 [==============================] - 1s 2ms/step - loss: 0.5533 - accuracy: 0.8150 - val_loss: 0.9924 - val_accuracy: 0.7304\n",
      "Epoch 30/50\n",
      "241/241 [==============================] - 1s 2ms/step - loss: 0.5570 - accuracy: 0.8133 - val_loss: 1.0087 - val_accuracy: 0.7335\n",
      "Epoch 31/50\n",
      "241/241 [==============================] - 0s 2ms/step - loss: 0.5532 - accuracy: 0.8189 - val_loss: 1.0007 - val_accuracy: 0.7347\n",
      "Epoch 32/50\n",
      "241/241 [==============================] - 1s 2ms/step - loss: 0.5247 - accuracy: 0.8214 - val_loss: 1.0226 - val_accuracy: 0.7298\n",
      "Epoch 33/50\n",
      "241/241 [==============================] - 0s 2ms/step - loss: 0.5287 - accuracy: 0.8221 - val_loss: 1.0156 - val_accuracy: 0.7304\n",
      "Epoch 34/50\n",
      "241/241 [==============================] - 0s 2ms/step - loss: 0.5176 - accuracy: 0.8242 - val_loss: 1.0476 - val_accuracy: 0.7353\n",
      "Epoch 35/50\n",
      "241/241 [==============================] - 0s 2ms/step - loss: 0.5066 - accuracy: 0.8315 - val_loss: 1.0278 - val_accuracy: 0.7298\n",
      "Epoch 36/50\n",
      "241/241 [==============================] - 0s 2ms/step - loss: 0.5055 - accuracy: 0.8286 - val_loss: 1.0561 - val_accuracy: 0.7335\n",
      "Epoch 37/50\n",
      "241/241 [==============================] - 0s 2ms/step - loss: 0.5032 - accuracy: 0.8283 - val_loss: 1.0710 - val_accuracy: 0.7304\n",
      "Epoch 38/50\n",
      "241/241 [==============================] - 0s 2ms/step - loss: 0.4940 - accuracy: 0.8318 - val_loss: 1.0780 - val_accuracy: 0.7353\n",
      "Epoch 39/50\n",
      "241/241 [==============================] - 0s 2ms/step - loss: 0.4925 - accuracy: 0.8333 - val_loss: 1.0871 - val_accuracy: 0.7274\n",
      "Epoch 40/50\n",
      "241/241 [==============================] - 0s 2ms/step - loss: 0.4821 - accuracy: 0.8362 - val_loss: 1.0691 - val_accuracy: 0.7413\n",
      "Epoch 41/50\n",
      "241/241 [==============================] - 0s 2ms/step - loss: 0.4740 - accuracy: 0.8355 - val_loss: 1.0840 - val_accuracy: 0.7335\n",
      "Epoch 42/50\n",
      "241/241 [==============================] - 0s 2ms/step - loss: 0.4692 - accuracy: 0.8428 - val_loss: 1.0897 - val_accuracy: 0.7353\n",
      "Epoch 43/50\n",
      "241/241 [==============================] - 0s 2ms/step - loss: 0.4593 - accuracy: 0.8431 - val_loss: 1.1032 - val_accuracy: 0.7353\n",
      "Epoch 44/50\n",
      "241/241 [==============================] - 0s 2ms/step - loss: 0.4650 - accuracy: 0.8414 - val_loss: 1.1189 - val_accuracy: 0.7389\n",
      "Epoch 45/50\n",
      "241/241 [==============================] - 0s 2ms/step - loss: 0.4503 - accuracy: 0.8432 - val_loss: 1.1210 - val_accuracy: 0.7341\n",
      "Epoch 46/50\n",
      "241/241 [==============================] - 0s 2ms/step - loss: 0.4634 - accuracy: 0.8358 - val_loss: 1.0786 - val_accuracy: 0.7389\n",
      "Epoch 47/50\n",
      "241/241 [==============================] - 0s 2ms/step - loss: 0.4584 - accuracy: 0.8436 - val_loss: 1.0922 - val_accuracy: 0.7310\n",
      "Epoch 48/50\n",
      "241/241 [==============================] - 0s 2ms/step - loss: 0.4523 - accuracy: 0.8483 - val_loss: 1.1350 - val_accuracy: 0.7347\n",
      "Epoch 49/50\n",
      "241/241 [==============================] - 0s 2ms/step - loss: 0.4420 - accuracy: 0.8506 - val_loss: 1.1310 - val_accuracy: 0.7268\n",
      "Epoch 50/50\n",
      "241/241 [==============================] - 0s 2ms/step - loss: 0.4330 - accuracy: 0.8509 - val_loss: 1.1343 - val_accuracy: 0.7389\n"
     ]
    }
   ],
   "source": [
    "# Train the model\n",
    "history = model.fit(X_train, y_train, epochs=50, batch_size=32, validation_data=(X_val, y_val))"
   ]
  },
  {
   "cell_type": "code",
   "execution_count": 12,
   "id": "4MM2zByGf3LB",
   "metadata": {
    "colab": {
     "base_uri": "https://localhost:8080/",
     "height": 431
    },
    "id": "4MM2zByGf3LB",
    "outputId": "9a38ea05-ca70-47a4-c240-2363a58f807a"
   },
   "outputs": [
    {
     "name": "stderr",
     "output_type": "stream",
     "text": [
      "Matplotlib is building the font cache; this may take a moment.\n"
     ]
    },
    {
     "data": {
      "image/png": "[encoded data removed]",
      "text/plain": [
       "<Figure size 1200x500 with 2 Axes>"
      ]
     },
     "metadata": {},
     "output_type": "display_data"
    }
   ],
   "source": [
    "import matplotlib.pyplot as plt\n",
    "\n",
    "# Plotting training & validation accuracy values\n",
    "plt.figure(figsize=(12, 5))\n",
    "\n",
    "# Subplot for accuracy\n",
    "plt.subplot(1, 2, 1)\n",
    "plt.plot(history.history['accuracy'])\n",
    "plt.plot(history.history['val_accuracy'])\n",
    "plt.title('Model Accuracy')\n",
    "plt.ylabel('Accuracy')\n",
    "plt.xlabel('Epoch')\n",
    "plt.legend(['Train', 'Validation'], loc='upper left')\n",
    "\n",
    "# Subplot for loss\n",
    "plt.subplot(1, 2, 2)\n",
    "plt.plot(history.history['loss'])\n",
    "plt.plot(history.history['val_loss'])\n",
    "plt.title('Model Loss')\n",
    "plt.ylabel('Loss')\n",
    "plt.xlabel('Epoch')\n",
    "plt.legend(['Train', 'Validation'], loc='upper left')\n",
    "\n",
    "plt.show()\n"
   ]
  },
  {
   "cell_type": "markdown",
   "id": "9802c367",
   "metadata": {
    "id": "9802c367"
   },
   "source": [
    "## Step 6: Evaluate the Model\n",
    "\n",
    "Evaluate the model's performance on the test set."
   ]
  },
  {
   "cell_type": "code",
   "execution_count": 10,
   "id": "e73ab849",
   "metadata": {
    "colab": {
     "base_uri": "https://localhost:8080/"
    },
    "id": "e73ab849",
    "outputId": "63dbf2d8-57ed-40e7-ea52-60aeaa10a5cf"
   },
   "outputs": [
    {
     "name": "stdout",
     "output_type": "stream",
     "text": [
      "52/52 [==============================] - 0s 1ms/step - loss: 1.0880 - accuracy: 0.7371\n",
      "Test Accuracy: 73.71%\n"
     ]
    }
   ],
   "source": [
    "# Evaluate the model\n",
    "test_loss, test_accuracy = model.evaluate(X_test, y_test)\n",
    "print(f\"Test Accuracy: {test_accuracy*100:.2f}%\")"
   ]
  },
  {
   "cell_type": "code",
   "execution_count": 15,
   "id": "5d46a49b",
   "metadata": {},
   "outputs": [
    {
     "name": "stdout",
     "output_type": "stream",
     "text": [
      "241/241 [==============================] - 0s 901us/step\n"
     ]
    },
    {
     "data": {
      "text/plain": [
       "array([[2.9507409e-37, 1.3598843e-19, 5.8355351e-07, ..., 2.2870039e-10,\n",
       "        1.9134409e-11, 3.5433234e-17],\n",
       "       [9.1321213e-12, 8.3267042e-07, 1.0642703e-02, ..., 1.3216074e-03,\n",
       "        1.6935378e-04, 2.5808998e-07],\n",
       "       [2.4726282e-13, 1.6847588e-09, 1.0569254e-04, ..., 5.2744109e-04,\n",
       "        1.3533257e-02, 1.7363675e-08],\n",
       "       ...,\n",
       "       [1.6487080e-12, 4.1891419e-04, 1.8426007e-02, ..., 2.3618396e-02,\n",
       "        1.2321918e-03, 7.8381912e-05],\n",
       "       [4.5013341e-33, 1.0131566e-19, 1.6618301e-07, ..., 8.1721087e-15,\n",
       "        9.9310338e-17, 3.9975720e-18],\n",
       "       [1.0222536e-29, 3.4042893e-20, 2.1471215e-11, ..., 1.4642901e-06,\n",
       "        2.1520062e-17, 1.1978450e-17]], dtype=float32)"
      ]
     },
     "execution_count": 15,
     "metadata": {},
     "output_type": "execute_result"
    }
   ],
   "source": [
    "model.predict(X_train)"
   ]
  },
  {
   "cell_type": "code",
   "execution_count": 89,
   "id": "78a0b383",
   "metadata": {},
   "outputs": [],
   "source": [
    "#Prepocess Example à prédire\n",
    "\n",
    "topredict=['Thierry','François','Jean','Natasha','Jean-Benoit','Sylvie','Karl','Ingo','Gerd']\n",
    "topredict=surnames_data['surname']\n",
    "def preprocess(liste):\n",
    "    tpdata=pd.DataFrame(pd.DataFrame({'surname': np.array(liste)}))\n",
    "    tpdata['surname_seq'] = tpdata['surname'].apply(surname_to_int_array)\n",
    "    from keras.preprocessing.sequence import pad_sequences\n",
    "    tpdata['surname_padded'] = list(pad_sequences(tpdata['surname_seq'], maxlen=max_surname_length, padding='post'))\n",
    "    Xtp=np.array(tpdata['surname_padded'].tolist())\n",
    "    return Xtp,tpdata\n",
    "    \n",
    "#tpdata=pd.DataFrame(pd.DataFrame({'surname': np.array(['Thierry','Charles'])}))\n",
    "#tpdata['surname_seq'] = tpdata['surname'].apply(surname_to_int_array)\n",
    "#from keras.preprocessing.sequence import pad_sequences\n",
    "#tpdata['surname_padded'] = list(pad_sequences(tpdata['surname_seq'], maxlen=max_surname_length, padding='post'))\n",
    "#print(tpdata)\n",
    "#Xtp=np.array(tpdata['surname_padded'].tolist())\n",
    "\n",
    "Xtp,tpdata=preprocess(topredict)"
   ]
  },
  {
   "cell_type": "code",
   "execution_count": 90,
   "id": "cb595c44",
   "metadata": {},
   "outputs": [
    {
     "name": "stdout",
     "output_type": "stream",
     "text": [
      "344/344 [==============================] - 0s 889us/step\n"
     ]
    },
    {
     "data": {
      "text/html": [
       "<div>\n",
       "<style scoped>\n",
       "    .dataframe tbody tr th:only-of-type {\n",
       "        vertical-align: middle;\n",
       "    }\n",
       "\n",
       "    .dataframe tbody tr th {\n",
       "        vertical-align: top;\n",
       "    }\n",
       "\n",
       "    .dataframe thead th {\n",
       "        text-align: right;\n",
       "    }\n",
       "</style>\n",
       "<table border=\"1\" class=\"dataframe\">\n",
       "  <thead>\n",
       "    <tr style=\"text-align: right;\">\n",
       "      <th></th>\n",
       "      <th>surname</th>\n",
       "      <th>predicted_class</th>\n",
       "    </tr>\n",
       "  </thead>\n",
       "  <tbody>\n",
       "    <tr>\n",
       "      <th>0</th>\n",
       "      <td>Woodford</td>\n",
       "      <td>English</td>\n",
       "    </tr>\n",
       "    <tr>\n",
       "      <th>1</th>\n",
       "      <td>Coté</td>\n",
       "      <td>French</td>\n",
       "    </tr>\n",
       "    <tr>\n",
       "      <th>2</th>\n",
       "      <td>Kore</td>\n",
       "      <td>English</td>\n",
       "    </tr>\n",
       "    <tr>\n",
       "      <th>3</th>\n",
       "      <td>Koury</td>\n",
       "      <td>Arabic</td>\n",
       "    </tr>\n",
       "    <tr>\n",
       "      <th>4</th>\n",
       "      <td>Lebzak</td>\n",
       "      <td>Russian</td>\n",
       "    </tr>\n",
       "    <tr>\n",
       "      <th>...</th>\n",
       "      <td>...</td>\n",
       "      <td>...</td>\n",
       "    </tr>\n",
       "    <tr>\n",
       "      <th>10975</th>\n",
       "      <td>Quraishi</td>\n",
       "      <td>Arabic</td>\n",
       "    </tr>\n",
       "    <tr>\n",
       "      <th>10976</th>\n",
       "      <td>Innalls</td>\n",
       "      <td>English</td>\n",
       "    </tr>\n",
       "    <tr>\n",
       "      <th>10977</th>\n",
       "      <td>Król</td>\n",
       "      <td>Polish</td>\n",
       "    </tr>\n",
       "    <tr>\n",
       "      <th>10978</th>\n",
       "      <td>Purvis</td>\n",
       "      <td>English</td>\n",
       "    </tr>\n",
       "    <tr>\n",
       "      <th>10979</th>\n",
       "      <td>Messerli</td>\n",
       "      <td>German</td>\n",
       "    </tr>\n",
       "  </tbody>\n",
       "</table>\n",
       "<p>10980 rows × 2 columns</p>\n",
       "</div>"
      ],
      "text/plain": [
       "        surname predicted_class\n",
       "0      Woodford         English\n",
       "1          Coté          French\n",
       "2          Kore         English\n",
       "3         Koury          Arabic\n",
       "4        Lebzak         Russian\n",
       "...         ...             ...\n",
       "10975  Quraishi          Arabic\n",
       "10976   Innalls         English\n",
       "10977      Król          Polish\n",
       "10978    Purvis         English\n",
       "10979  Messerli          German\n",
       "\n",
       "[10980 rows x 2 columns]"
      ]
     },
     "execution_count": 90,
     "metadata": {},
     "output_type": "execute_result"
    }
   ],
   "source": [
    "predicted_probabilities=model.predict(Xtp)\n",
    "# Get the predicted class\n",
    "predicted_class = np.argmax(predicted_probabilities, axis=1)\n",
    "\n",
    "\n",
    "\n",
    "def wLabel(liste):\n",
    "    return label_encoder.inverse_transform(liste)\n",
    "\n",
    "tpdata[\"predicted_class\"]=wLabel(predicted_class).transpose()\n",
    "\n",
    "#print(topredict,'\\t Data')\n",
    "#print(wLabel(predicted_class),'\\t Predicted')\n",
    "\n",
    "tpdata[['surname','predicted_class']]\n"
   ]
  },
  {
   "cell_type": "code",
   "execution_count": 102,
   "id": "b27f2269",
   "metadata": {},
   "outputs": [
    {
     "name": "stdout",
     "output_type": "stream",
     "text": [
      "1/1 [==============================] - 0s 14ms/step\n",
      "      surname predicted_class     proba predicted_class2    proba2\n",
      "0  Al Baroudi         Italian  0.982628         Japanese  0.017046\n",
      "1  Van Forest          French  0.908376          English  0.058987\n",
      "2         Siu         Chinese  0.820178       Vietnamese  0.120019\n",
      "3       Jando           Czech  0.292786          Russian  0.289820\n",
      "4       Rilke         English  0.677061          Russian  0.203212\n",
      "5    Remarque         English  0.460403           French  0.420352\n",
      "6      Créquy         Italian  0.774481          Spanish  0.194749\n",
      "7     Jussien         English  0.652938          Russian  0.255454\n",
      "8      Lefort         English  0.919521           French  0.056014\n"
     ]
    }
   ],
   "source": [
    "#topredict=['Mustermann','Eberwein','Schrek','Schumacher','Philippi','Schotte','Schmitz','Dupont','Leblanc']\n",
    "topredict=['Al Baroudi','Van Forest','Siu','Jando','Rilke','Remarque','Créquy','Jussien','Lefort']\n",
    "#topredict=surnames_data['surname']\n",
    "\n",
    "def fancy_p(modele,liste):\n",
    "    tpdata=pd.DataFrame(pd.DataFrame({'surname': np.array(liste)}))\n",
    "    tpdata['surname_seq'] = tpdata['surname'].apply(surname_to_int_array)\n",
    "    from keras.preprocessing.sequence import pad_sequences\n",
    "    tpdata['surname_padded'] = list(pad_sequences(tpdata['surname_seq'], maxlen=max_surname_length, padding='post'))\n",
    "    Xtp=np.array(tpdata['surname_padded'].tolist())\n",
    "\n",
    "    predicted_probabilities=model.predict(Xtp)\n",
    "    predicted_class = np.argmax(predicted_probabilities, axis=1)\n",
    "    predicted_probabilities1=np.copy(predicted_probabilities)\n",
    "    for i, idx in enumerate(predicted_class):\n",
    "        predicted_probabilities1[i, idx] = 0\n",
    "    predicted_class2 = np.argmax(predicted_probabilities1, axis=1)\n",
    "    predict_mp = np.max(predicted_probabilities, axis=1)\n",
    "    predict_mp2 = np.max(predicted_probabilities1, axis=1)\n",
    "    \n",
    "    tpdata[\"predicted_class\"]=label_encoder.inverse_transform(predicted_class).transpose()\n",
    "    tpdata[\"proba\"]=predict_mp\n",
    "    \n",
    "    tpdata[\"predicted_class2\"]=label_encoder.inverse_transform(predicted_class2).transpose()\n",
    "    tpdata[\"proba2\"]=predict_mp2\n",
    "    \n",
    "    print(tpdata[['surname','predicted_class','proba','predicted_class2','proba2']])\n",
    "    return tpdata\n",
    "\n",
    "fp=fancy_p(model,topredict)"
   ]
  },
  {
   "cell_type": "markdown",
   "id": "87348b82",
   "metadata": {},
   "source": [
    "### X_train"
   ]
  },
  {
   "cell_type": "markdown",
   "id": "3c3a5d3c",
   "metadata": {
    "id": "3c3a5d3c"
   },
   "source": [
    "## Step 7: Save the Model (Optional)\n",
    "\n",
    "Optionally, we can save the model for future use."
   ]
  },
  {
   "cell_type": "code",
   "execution_count": 11,
   "id": "14ee45e0",
   "metadata": {
    "colab": {
     "base_uri": "https://localhost:8080/"
    },
    "id": "14ee45e0",
    "outputId": "3e1f29a9-dffc-4c38-d7f7-72df6c1506d8"
   },
   "outputs": [
    {
     "name": "stderr",
     "output_type": "stream",
     "text": [
      "/users/2024/ds2/122000483/.local/lib/python3.11/site-packages/keras/src/engine/training.py:3103: UserWarning: You are saving your model as an HDF5 file via `model.save()`. This file format is considered legacy. We recommend using instead the native Keras format, e.g. `model.save('my_model.keras')`.\n",
      "  saving_api.save_model(\n"
     ]
    }
   ],
   "source": [
    "# Save the model\n",
    "model.save('surname_nationality_classifier.h5')"
   ]
  },
  {
   "cell_type": "markdown",
   "id": "r23cQfRdgQGT",
   "metadata": {
    "id": "r23cQfRdgQGT"
   },
   "source": [
    "TODO: Give a surname to the model and ask the model to predict the nationality of it."
   ]
  },
  {
   "cell_type": "markdown",
   "id": "B0gZlsuFhRTR",
   "metadata": {
    "id": "B0gZlsuFhRTR"
   },
   "source": [
    "TODO: change the architecture of the model to reduce the overfitting"
   ]
  }
 ],
 "metadata": {
  "colab": {
   "include_colab_link": true,
   "provenance": []
  },
  "kernelspec": {
   "display_name": "Python 3 (ipykernel)",
   "language": "python",
   "name": "python3"
  },
  "language_info": {
   "codemirror_mode": {
    "name": "ipython",
    "version": 3
   },
   "file_extension": ".py",
   "mimetype": "text/x-python",
   "name": "python",
   "nbconvert_exporter": "python",
   "pygments_lexer": "ipython3",
   "version": "3.11.4"
  }
 },
 "nbformat": 4,
 "nbformat_minor": 5
}
